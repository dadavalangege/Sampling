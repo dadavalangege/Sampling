{
 "cells": [
  {
   "cell_type": "markdown",
   "metadata": {},
   "source": [
    "- Exercici 1\n",
    "Agafa un conjunt de dades de tema esportiu que t'agradi. Realitza un mostreig de les dades generant una mostra aleatòria simple i una mostra sistemàtica.\n"
   ]
  },
  {
   "cell_type": "code",
   "execution_count": 99,
   "metadata": {},
   "outputs": [],
   "source": [
    "import random\n",
    "import pandas as pd\n",
    "from sklearn.model_selection import train_test_split\n",
    "from sklearn import preprocessing\n",
    "import numpy as np\n",
    "import matplotlib.pyplot as plt\n",
    "import seaborn as sns\n",
    "import plotly.express as px"
   ]
  },
  {
   "cell_type": "code",
   "execution_count": 6,
   "metadata": {
    "scrolled": true
   },
   "outputs": [
    {
     "data": {
      "text/html": [
       "<div>\n",
       "<style scoped>\n",
       "    .dataframe tbody tr th:only-of-type {\n",
       "        vertical-align: middle;\n",
       "    }\n",
       "\n",
       "    .dataframe tbody tr th {\n",
       "        vertical-align: top;\n",
       "    }\n",
       "\n",
       "    .dataframe thead th {\n",
       "        text-align: right;\n",
       "    }\n",
       "</style>\n",
       "<table border=\"1\" class=\"dataframe\">\n",
       "  <thead>\n",
       "    <tr style=\"text-align: right;\">\n",
       "      <th></th>\n",
       "      <th>Name</th>\n",
       "      <th>Jersey Number</th>\n",
       "      <th>Club</th>\n",
       "      <th>Position</th>\n",
       "      <th>Nationality</th>\n",
       "      <th>Age</th>\n",
       "      <th>Appearances</th>\n",
       "      <th>Wins</th>\n",
       "      <th>Losses</th>\n",
       "      <th>Goals</th>\n",
       "      <th>...</th>\n",
       "      <th>Punches</th>\n",
       "      <th>High Claims</th>\n",
       "      <th>Catches</th>\n",
       "      <th>Sweeper clearances</th>\n",
       "      <th>Throw outs</th>\n",
       "      <th>Goal Kicks</th>\n",
       "      <th>Yellow cards</th>\n",
       "      <th>Red cards</th>\n",
       "      <th>Fouls</th>\n",
       "      <th>Offsides</th>\n",
       "    </tr>\n",
       "  </thead>\n",
       "  <tbody>\n",
       "    <tr>\n",
       "      <th>0</th>\n",
       "      <td>Bernd Leno</td>\n",
       "      <td>1.0</td>\n",
       "      <td>Arsenal</td>\n",
       "      <td>Goalkeeper</td>\n",
       "      <td>Germany</td>\n",
       "      <td>28.0</td>\n",
       "      <td>64</td>\n",
       "      <td>28</td>\n",
       "      <td>16</td>\n",
       "      <td>0</td>\n",
       "      <td>...</td>\n",
       "      <td>34.0</td>\n",
       "      <td>26.0</td>\n",
       "      <td>17.0</td>\n",
       "      <td>28.0</td>\n",
       "      <td>375.0</td>\n",
       "      <td>489.0</td>\n",
       "      <td>2</td>\n",
       "      <td>0</td>\n",
       "      <td>0</td>\n",
       "      <td>NaN</td>\n",
       "    </tr>\n",
       "    <tr>\n",
       "      <th>1</th>\n",
       "      <td>Matt Macey</td>\n",
       "      <td>33.0</td>\n",
       "      <td>Arsenal</td>\n",
       "      <td>Goalkeeper</td>\n",
       "      <td>England</td>\n",
       "      <td>26.0</td>\n",
       "      <td>0</td>\n",
       "      <td>0</td>\n",
       "      <td>0</td>\n",
       "      <td>0</td>\n",
       "      <td>...</td>\n",
       "      <td>0.0</td>\n",
       "      <td>0.0</td>\n",
       "      <td>0.0</td>\n",
       "      <td>0.0</td>\n",
       "      <td>0.0</td>\n",
       "      <td>0.0</td>\n",
       "      <td>0</td>\n",
       "      <td>0</td>\n",
       "      <td>0</td>\n",
       "      <td>NaN</td>\n",
       "    </tr>\n",
       "    <tr>\n",
       "      <th>2</th>\n",
       "      <td>Rúnar Alex Rúnarsson</td>\n",
       "      <td>13.0</td>\n",
       "      <td>Arsenal</td>\n",
       "      <td>Goalkeeper</td>\n",
       "      <td>Iceland</td>\n",
       "      <td>25.0</td>\n",
       "      <td>0</td>\n",
       "      <td>0</td>\n",
       "      <td>0</td>\n",
       "      <td>0</td>\n",
       "      <td>...</td>\n",
       "      <td>0.0</td>\n",
       "      <td>0.0</td>\n",
       "      <td>0.0</td>\n",
       "      <td>0.0</td>\n",
       "      <td>0.0</td>\n",
       "      <td>0.0</td>\n",
       "      <td>0</td>\n",
       "      <td>0</td>\n",
       "      <td>0</td>\n",
       "      <td>NaN</td>\n",
       "    </tr>\n",
       "    <tr>\n",
       "      <th>3</th>\n",
       "      <td>Héctor Bellerín</td>\n",
       "      <td>2.0</td>\n",
       "      <td>Arsenal</td>\n",
       "      <td>Defender</td>\n",
       "      <td>Spain</td>\n",
       "      <td>25.0</td>\n",
       "      <td>160</td>\n",
       "      <td>90</td>\n",
       "      <td>37</td>\n",
       "      <td>7</td>\n",
       "      <td>...</td>\n",
       "      <td>NaN</td>\n",
       "      <td>NaN</td>\n",
       "      <td>NaN</td>\n",
       "      <td>NaN</td>\n",
       "      <td>NaN</td>\n",
       "      <td>NaN</td>\n",
       "      <td>23</td>\n",
       "      <td>0</td>\n",
       "      <td>125</td>\n",
       "      <td>8.0</td>\n",
       "    </tr>\n",
       "    <tr>\n",
       "      <th>4</th>\n",
       "      <td>Kieran Tierney</td>\n",
       "      <td>3.0</td>\n",
       "      <td>Arsenal</td>\n",
       "      <td>Defender</td>\n",
       "      <td>Scotland</td>\n",
       "      <td>23.0</td>\n",
       "      <td>16</td>\n",
       "      <td>7</td>\n",
       "      <td>5</td>\n",
       "      <td>1</td>\n",
       "      <td>...</td>\n",
       "      <td>NaN</td>\n",
       "      <td>NaN</td>\n",
       "      <td>NaN</td>\n",
       "      <td>NaN</td>\n",
       "      <td>NaN</td>\n",
       "      <td>NaN</td>\n",
       "      <td>2</td>\n",
       "      <td>0</td>\n",
       "      <td>9</td>\n",
       "      <td>0.0</td>\n",
       "    </tr>\n",
       "  </tbody>\n",
       "</table>\n",
       "<p>5 rows × 59 columns</p>\n",
       "</div>"
      ],
      "text/plain": [
       "                   Name  Jersey Number     Club    Position Nationality   Age  \\\n",
       "0            Bernd Leno            1.0  Arsenal  Goalkeeper     Germany  28.0   \n",
       "1            Matt Macey           33.0  Arsenal  Goalkeeper     England  26.0   \n",
       "2  Rúnar Alex Rúnarsson           13.0  Arsenal  Goalkeeper     Iceland  25.0   \n",
       "3       Héctor Bellerín            2.0  Arsenal    Defender       Spain  25.0   \n",
       "4        Kieran Tierney            3.0  Arsenal    Defender    Scotland  23.0   \n",
       "\n",
       "   Appearances  Wins  Losses  Goals  ...  Punches  High Claims  Catches  \\\n",
       "0           64    28      16      0  ...     34.0         26.0     17.0   \n",
       "1            0     0       0      0  ...      0.0          0.0      0.0   \n",
       "2            0     0       0      0  ...      0.0          0.0      0.0   \n",
       "3          160    90      37      7  ...      NaN          NaN      NaN   \n",
       "4           16     7       5      1  ...      NaN          NaN      NaN   \n",
       "\n",
       "   Sweeper clearances  Throw outs  Goal Kicks  Yellow cards  Red cards Fouls  \\\n",
       "0                28.0       375.0       489.0             2          0     0   \n",
       "1                 0.0         0.0         0.0             0          0     0   \n",
       "2                 0.0         0.0         0.0             0          0     0   \n",
       "3                 NaN         NaN         NaN            23          0   125   \n",
       "4                 NaN         NaN         NaN             2          0     9   \n",
       "\n",
       "   Offsides  \n",
       "0       NaN  \n",
       "1       NaN  \n",
       "2       NaN  \n",
       "3       8.0  \n",
       "4       0.0  \n",
       "\n",
       "[5 rows x 59 columns]"
      ]
     },
     "execution_count": 6,
     "metadata": {},
     "output_type": "execute_result"
    }
   ],
   "source": [
    "#premier_df = pd.read_csv('C:\\\\Users\\\\elgab\\\\Desktop\\\\NUBE MEGA\\\\PROGRAMACIÓN\\\\2020-2021\\\\IT_Academy\\\\itinerario DS\\\\bases_datos\\\\premier_league.csv', sep=',')\n",
    "premier_df = pd.read_csv('C:\\\\Users\\\\formacio\\\\Gabriel De Santis\\\\Datasets\\\\premier_league.csv', sep=',')\n",
    "premier_df.head()"
   ]
  },
  {
   "cell_type": "code",
   "execution_count": 83,
   "metadata": {},
   "outputs": [
    {
     "data": {
      "text/plain": [
       "80.73555166374781"
      ]
     },
     "execution_count": 83,
     "metadata": {},
     "output_type": "execute_result"
    }
   ],
   "source": [
    "premier_df[premier_df['Losses'] != 0].Losses.count() / len(premier_df) * 100"
   ]
  },
  {
   "cell_type": "code",
   "execution_count": 84,
   "metadata": {},
   "outputs": [
    {
     "data": {
      "text/plain": [
       "19.264448336252187"
      ]
     },
     "execution_count": 84,
     "metadata": {},
     "output_type": "execute_result"
    }
   ],
   "source": [
    "premier_df[premier_df['Losses'] == 0].Losses.count() / len(premier_df) * 100"
   ]
  },
  {
   "cell_type": "code",
   "execution_count": 7,
   "metadata": {},
   "outputs": [
    {
     "data": {
      "text/plain": [
       "(571, 59)"
      ]
     },
     "execution_count": 7,
     "metadata": {},
     "output_type": "execute_result"
    }
   ],
   "source": [
    "premier_df.shape"
   ]
  },
  {
   "cell_type": "code",
   "execution_count": 8,
   "metadata": {},
   "outputs": [
    {
     "data": {
      "text/plain": [
       "Index(['Name', 'Jersey Number', 'Club', 'Position', 'Nationality', 'Age',\n",
       "       'Appearances', 'Wins', 'Losses', 'Goals', 'Goals per match',\n",
       "       'Headed goals', 'Goals with right foot', 'Goals with left foot',\n",
       "       'Penalties scored', 'Freekicks scored', 'Shots', 'Shots on target',\n",
       "       'Shooting accuracy %', 'Hit woodwork', 'Big chances missed',\n",
       "       'Clean sheets', 'Goals conceded', 'Tackles', 'Tackle success %',\n",
       "       'Last man tackles', 'Blocked shots', 'Interceptions', 'Clearances',\n",
       "       'Headed Clearance', 'Clearances off line', 'Recoveries', 'Duels won',\n",
       "       'Duels lost', 'Successful 50/50s', 'Aerial battles won',\n",
       "       'Aerial battles lost', 'Own goals', 'Errors leading to goal', 'Assists',\n",
       "       'Passes', 'Passes per match', 'Big chances created', 'Crosses',\n",
       "       'Cross accuracy %', 'Through balls', 'Accurate long balls', 'Saves',\n",
       "       'Penalties saved', 'Punches', 'High Claims', 'Catches',\n",
       "       'Sweeper clearances', 'Throw outs', 'Goal Kicks', 'Yellow cards',\n",
       "       'Red cards', 'Fouls', 'Offsides'],\n",
       "      dtype='object')"
      ]
     },
     "execution_count": 8,
     "metadata": {},
     "output_type": "execute_result"
    }
   ],
   "source": [
    "premier_df.columns"
   ]
  },
  {
   "cell_type": "code",
   "execution_count": 9,
   "metadata": {},
   "outputs": [
    {
     "name": "stdout",
     "output_type": "stream",
     "text": [
      "<class 'pandas.core.frame.DataFrame'>\n",
      "RangeIndex: 571 entries, 0 to 570\n",
      "Data columns (total 59 columns):\n",
      " #   Column                  Non-Null Count  Dtype  \n",
      "---  ------                  --------------  -----  \n",
      " 0   Name                    571 non-null    object \n",
      " 1   Jersey Number           563 non-null    float64\n",
      " 2   Club                    571 non-null    object \n",
      " 3   Position                571 non-null    object \n",
      " 4   Nationality             570 non-null    object \n",
      " 5   Age                     570 non-null    float64\n",
      " 6   Appearances             571 non-null    int64  \n",
      " 7   Wins                    571 non-null    int64  \n",
      " 8   Losses                  571 non-null    int64  \n",
      " 9   Goals                   571 non-null    int64  \n",
      " 10  Goals per match         309 non-null    float64\n",
      " 11  Headed goals            502 non-null    float64\n",
      " 12  Goals with right foot   502 non-null    float64\n",
      " 13  Goals with left foot    502 non-null    float64\n",
      " 14  Penalties scored        309 non-null    float64\n",
      " 15  Freekicks scored        309 non-null    float64\n",
      " 16  Shots                   309 non-null    float64\n",
      " 17  Shots on target         309 non-null    float64\n",
      " 18  Shooting accuracy %     309 non-null    object \n",
      " 19  Hit woodwork            502 non-null    float64\n",
      " 20  Big chances missed      309 non-null    float64\n",
      " 21  Clean sheets            262 non-null    float64\n",
      " 22  Goals conceded          262 non-null    float64\n",
      " 23  Tackles                 502 non-null    float64\n",
      " 24  Tackle success %        390 non-null    object \n",
      " 25  Last man tackles        193 non-null    float64\n",
      " 26  Blocked shots           502 non-null    float64\n",
      " 27  Interceptions           502 non-null    float64\n",
      " 28  Clearances              502 non-null    float64\n",
      " 29  Headed Clearance        502 non-null    float64\n",
      " 30  Clearances off line     193 non-null    float64\n",
      " 31  Recoveries              390 non-null    float64\n",
      " 32  Duels won               390 non-null    float64\n",
      " 33  Duels lost              390 non-null    float64\n",
      " 34  Successful 50/50s       390 non-null    float64\n",
      " 35  Aerial battles won      390 non-null    float64\n",
      " 36  Aerial battles lost     390 non-null    float64\n",
      " 37  Own goals               262 non-null    float64\n",
      " 38  Errors leading to goal  459 non-null    float64\n",
      " 39  Assists                 571 non-null    int64  \n",
      " 40  Passes                  571 non-null    int64  \n",
      " 41  Passes per match        571 non-null    float64\n",
      " 42  Big chances created     502 non-null    float64\n",
      " 43  Crosses                 502 non-null    float64\n",
      " 44  Cross accuracy %        390 non-null    object \n",
      " 45  Through balls           390 non-null    float64\n",
      " 46  Accurate long balls     459 non-null    float64\n",
      " 47  Saves                   69 non-null     float64\n",
      " 48  Penalties saved         69 non-null     float64\n",
      " 49  Punches                 69 non-null     float64\n",
      " 50  High Claims             69 non-null     float64\n",
      " 51  Catches                 69 non-null     float64\n",
      " 52  Sweeper clearances      69 non-null     float64\n",
      " 53  Throw outs              69 non-null     float64\n",
      " 54  Goal Kicks              69 non-null     float64\n",
      " 55  Yellow cards            571 non-null    int64  \n",
      " 56  Red cards               571 non-null    int64  \n",
      " 57  Fouls                   571 non-null    int64  \n",
      " 58  Offsides                502 non-null    float64\n",
      "dtypes: float64(43), int64(9), object(7)\n",
      "memory usage: 263.3+ KB\n"
     ]
    }
   ],
   "source": [
    "premier_df.info()"
   ]
  },
  {
   "cell_type": "code",
   "execution_count": 10,
   "metadata": {
    "scrolled": true
   },
   "outputs": [
    {
     "data": {
      "text/plain": [
       "Name                       0.000000\n",
       "Jersey Number              1.401051\n",
       "Club                       0.000000\n",
       "Position                   0.000000\n",
       "Nationality                0.175131\n",
       "Age                        0.175131\n",
       "Appearances                0.000000\n",
       "Wins                       0.000000\n",
       "Losses                     0.000000\n",
       "Goals                      0.000000\n",
       "Goals per match           45.884413\n",
       "Headed goals              12.084063\n",
       "Goals with right foot     12.084063\n",
       "Goals with left foot      12.084063\n",
       "Penalties scored          45.884413\n",
       "Freekicks scored          45.884413\n",
       "Shots                     45.884413\n",
       "Shots on target           45.884413\n",
       "Shooting accuracy %       45.884413\n",
       "Hit woodwork              12.084063\n",
       "Big chances missed        45.884413\n",
       "Clean sheets              54.115587\n",
       "Goals conceded            54.115587\n",
       "Tackles                   12.084063\n",
       "Tackle success %          31.698774\n",
       "Last man tackles          66.199650\n",
       "Blocked shots             12.084063\n",
       "Interceptions             12.084063\n",
       "Clearances                12.084063\n",
       "Headed Clearance          12.084063\n",
       "Clearances off line       66.199650\n",
       "Recoveries                31.698774\n",
       "Duels won                 31.698774\n",
       "Duels lost                31.698774\n",
       "Successful 50/50s         31.698774\n",
       "Aerial battles won        31.698774\n",
       "Aerial battles lost       31.698774\n",
       "Own goals                 54.115587\n",
       "Errors leading to goal    19.614711\n",
       "Assists                    0.000000\n",
       "Passes                     0.000000\n",
       "Passes per match           0.000000\n",
       "Big chances created       12.084063\n",
       "Crosses                   12.084063\n",
       "Cross accuracy %          31.698774\n",
       "Through balls             31.698774\n",
       "Accurate long balls       19.614711\n",
       "Saves                     87.915937\n",
       "Penalties saved           87.915937\n",
       "Punches                   87.915937\n",
       "High Claims               87.915937\n",
       "Catches                   87.915937\n",
       "Sweeper clearances        87.915937\n",
       "Throw outs                87.915937\n",
       "Goal Kicks                87.915937\n",
       "Yellow cards               0.000000\n",
       "Red cards                  0.000000\n",
       "Fouls                      0.000000\n",
       "Offsides                  12.084063\n",
       "dtype: float64"
      ]
     },
     "execution_count": 10,
     "metadata": {},
     "output_type": "execute_result"
    }
   ],
   "source": [
    "premier_df.isna().sum() / len(premier_df) * 100"
   ]
  },
  {
   "cell_type": "markdown",
   "metadata": {},
   "source": [
    "Mostra aleatòria simple del 20%:"
   ]
  },
  {
   "cell_type": "code",
   "execution_count": 11,
   "metadata": {
    "scrolled": false
   },
   "outputs": [
    {
     "data": {
      "text/html": [
       "<div>\n",
       "<style scoped>\n",
       "    .dataframe tbody tr th:only-of-type {\n",
       "        vertical-align: middle;\n",
       "    }\n",
       "\n",
       "    .dataframe tbody tr th {\n",
       "        vertical-align: top;\n",
       "    }\n",
       "\n",
       "    .dataframe thead th {\n",
       "        text-align: right;\n",
       "    }\n",
       "</style>\n",
       "<table border=\"1\" class=\"dataframe\">\n",
       "  <thead>\n",
       "    <tr style=\"text-align: right;\">\n",
       "      <th></th>\n",
       "      <th>Name</th>\n",
       "      <th>Jersey Number</th>\n",
       "      <th>Club</th>\n",
       "      <th>Position</th>\n",
       "      <th>Nationality</th>\n",
       "      <th>Age</th>\n",
       "      <th>Appearances</th>\n",
       "      <th>Wins</th>\n",
       "      <th>Losses</th>\n",
       "      <th>Goals</th>\n",
       "      <th>...</th>\n",
       "      <th>Punches</th>\n",
       "      <th>High Claims</th>\n",
       "      <th>Catches</th>\n",
       "      <th>Sweeper clearances</th>\n",
       "      <th>Throw outs</th>\n",
       "      <th>Goal Kicks</th>\n",
       "      <th>Yellow cards</th>\n",
       "      <th>Red cards</th>\n",
       "      <th>Fouls</th>\n",
       "      <th>Offsides</th>\n",
       "    </tr>\n",
       "  </thead>\n",
       "  <tbody>\n",
       "    <tr>\n",
       "      <th>30</th>\n",
       "      <td>Tom Heaton</td>\n",
       "      <td>1.0</td>\n",
       "      <td>Aston-Villa</td>\n",
       "      <td>Goalkeeper</td>\n",
       "      <td>England</td>\n",
       "      <td>34.0</td>\n",
       "      <td>116</td>\n",
       "      <td>34</td>\n",
       "      <td>55</td>\n",
       "      <td>0</td>\n",
       "      <td>...</td>\n",
       "      <td>40.0</td>\n",
       "      <td>96.0</td>\n",
       "      <td>73.0</td>\n",
       "      <td>53.0</td>\n",
       "      <td>436.0</td>\n",
       "      <td>1023.0</td>\n",
       "      <td>5</td>\n",
       "      <td>0</td>\n",
       "      <td>2</td>\n",
       "      <td>NaN</td>\n",
       "    </tr>\n",
       "    <tr>\n",
       "      <th>478</th>\n",
       "      <td>Moussa Sissoko</td>\n",
       "      <td>17.0</td>\n",
       "      <td>Tottenham-Hotspur</td>\n",
       "      <td>Midfielder</td>\n",
       "      <td>France</td>\n",
       "      <td>31.0</td>\n",
       "      <td>235</td>\n",
       "      <td>110</td>\n",
       "      <td>83</td>\n",
       "      <td>14</td>\n",
       "      <td>...</td>\n",
       "      <td>NaN</td>\n",
       "      <td>NaN</td>\n",
       "      <td>NaN</td>\n",
       "      <td>NaN</td>\n",
       "      <td>NaN</td>\n",
       "      <td>NaN</td>\n",
       "      <td>36</td>\n",
       "      <td>2</td>\n",
       "      <td>276</td>\n",
       "      <td>24.0</td>\n",
       "    </tr>\n",
       "    <tr>\n",
       "      <th>46</th>\n",
       "      <td>Henri Lansbury</td>\n",
       "      <td>8.0</td>\n",
       "      <td>Aston-Villa</td>\n",
       "      <td>Midfielder</td>\n",
       "      <td>England</td>\n",
       "      <td>29.0</td>\n",
       "      <td>13</td>\n",
       "      <td>4</td>\n",
       "      <td>8</td>\n",
       "      <td>0</td>\n",
       "      <td>...</td>\n",
       "      <td>NaN</td>\n",
       "      <td>NaN</td>\n",
       "      <td>NaN</td>\n",
       "      <td>NaN</td>\n",
       "      <td>NaN</td>\n",
       "      <td>NaN</td>\n",
       "      <td>1</td>\n",
       "      <td>0</td>\n",
       "      <td>5</td>\n",
       "      <td>1.0</td>\n",
       "    </tr>\n",
       "    <tr>\n",
       "      <th>462</th>\n",
       "      <td>Joe Hart</td>\n",
       "      <td>12.0</td>\n",
       "      <td>Tottenham-Hotspur</td>\n",
       "      <td>Goalkeeper</td>\n",
       "      <td>England</td>\n",
       "      <td>33.0</td>\n",
       "      <td>340</td>\n",
       "      <td>169</td>\n",
       "      <td>97</td>\n",
       "      <td>0</td>\n",
       "      <td>...</td>\n",
       "      <td>269.0</td>\n",
       "      <td>391.0</td>\n",
       "      <td>249.0</td>\n",
       "      <td>180.0</td>\n",
       "      <td>1516.0</td>\n",
       "      <td>2806.0</td>\n",
       "      <td>7</td>\n",
       "      <td>0</td>\n",
       "      <td>6</td>\n",
       "      <td>NaN</td>\n",
       "    </tr>\n",
       "    <tr>\n",
       "      <th>54</th>\n",
       "      <td>Wesley</td>\n",
       "      <td>9.0</td>\n",
       "      <td>Aston-Villa</td>\n",
       "      <td>Forward</td>\n",
       "      <td>Brazil</td>\n",
       "      <td>23.0</td>\n",
       "      <td>21</td>\n",
       "      <td>6</td>\n",
       "      <td>12</td>\n",
       "      <td>5</td>\n",
       "      <td>...</td>\n",
       "      <td>NaN</td>\n",
       "      <td>NaN</td>\n",
       "      <td>NaN</td>\n",
       "      <td>NaN</td>\n",
       "      <td>NaN</td>\n",
       "      <td>NaN</td>\n",
       "      <td>3</td>\n",
       "      <td>0</td>\n",
       "      <td>43</td>\n",
       "      <td>14.0</td>\n",
       "    </tr>\n",
       "    <tr>\n",
       "      <th>...</th>\n",
       "      <td>...</td>\n",
       "      <td>...</td>\n",
       "      <td>...</td>\n",
       "      <td>...</td>\n",
       "      <td>...</td>\n",
       "      <td>...</td>\n",
       "      <td>...</td>\n",
       "      <td>...</td>\n",
       "      <td>...</td>\n",
       "      <td>...</td>\n",
       "      <td>...</td>\n",
       "      <td>...</td>\n",
       "      <td>...</td>\n",
       "      <td>...</td>\n",
       "      <td>...</td>\n",
       "      <td>...</td>\n",
       "      <td>...</td>\n",
       "      <td>...</td>\n",
       "      <td>...</td>\n",
       "      <td>...</td>\n",
       "      <td>...</td>\n",
       "    </tr>\n",
       "    <tr>\n",
       "      <th>439</th>\n",
       "      <td>Harry Lewis</td>\n",
       "      <td>41.0</td>\n",
       "      <td>Southampton</td>\n",
       "      <td>Goalkeeper</td>\n",
       "      <td>England</td>\n",
       "      <td>22.0</td>\n",
       "      <td>0</td>\n",
       "      <td>0</td>\n",
       "      <td>0</td>\n",
       "      <td>0</td>\n",
       "      <td>...</td>\n",
       "      <td>0.0</td>\n",
       "      <td>0.0</td>\n",
       "      <td>0.0</td>\n",
       "      <td>0.0</td>\n",
       "      <td>0.0</td>\n",
       "      <td>0.0</td>\n",
       "      <td>0</td>\n",
       "      <td>0</td>\n",
       "      <td>0</td>\n",
       "      <td>NaN</td>\n",
       "    </tr>\n",
       "    <tr>\n",
       "      <th>67</th>\n",
       "      <td>Dan Burn</td>\n",
       "      <td>33.0</td>\n",
       "      <td>Brighton-and-Hove-Albion</td>\n",
       "      <td>Defender</td>\n",
       "      <td>England</td>\n",
       "      <td>28.0</td>\n",
       "      <td>44</td>\n",
       "      <td>11</td>\n",
       "      <td>19</td>\n",
       "      <td>0</td>\n",
       "      <td>...</td>\n",
       "      <td>NaN</td>\n",
       "      <td>NaN</td>\n",
       "      <td>NaN</td>\n",
       "      <td>NaN</td>\n",
       "      <td>NaN</td>\n",
       "      <td>NaN</td>\n",
       "      <td>5</td>\n",
       "      <td>0</td>\n",
       "      <td>38</td>\n",
       "      <td>3.0</td>\n",
       "    </tr>\n",
       "    <tr>\n",
       "      <th>27</th>\n",
       "      <td>Eddie Nketiah</td>\n",
       "      <td>30.0</td>\n",
       "      <td>Arsenal</td>\n",
       "      <td>Forward</td>\n",
       "      <td>England</td>\n",
       "      <td>21.0</td>\n",
       "      <td>23</td>\n",
       "      <td>12</td>\n",
       "      <td>8</td>\n",
       "      <td>4</td>\n",
       "      <td>...</td>\n",
       "      <td>NaN</td>\n",
       "      <td>NaN</td>\n",
       "      <td>NaN</td>\n",
       "      <td>NaN</td>\n",
       "      <td>NaN</td>\n",
       "      <td>NaN</td>\n",
       "      <td>0</td>\n",
       "      <td>1</td>\n",
       "      <td>18</td>\n",
       "      <td>5.0</td>\n",
       "    </tr>\n",
       "    <tr>\n",
       "      <th>85</th>\n",
       "      <td>Neal Maupay</td>\n",
       "      <td>9.0</td>\n",
       "      <td>Brighton-and-Hove-Albion</td>\n",
       "      <td>Forward</td>\n",
       "      <td>France</td>\n",
       "      <td>24.0</td>\n",
       "      <td>39</td>\n",
       "      <td>10</td>\n",
       "      <td>16</td>\n",
       "      <td>12</td>\n",
       "      <td>...</td>\n",
       "      <td>NaN</td>\n",
       "      <td>NaN</td>\n",
       "      <td>NaN</td>\n",
       "      <td>NaN</td>\n",
       "      <td>NaN</td>\n",
       "      <td>NaN</td>\n",
       "      <td>3</td>\n",
       "      <td>0</td>\n",
       "      <td>38</td>\n",
       "      <td>15.0</td>\n",
       "    </tr>\n",
       "    <tr>\n",
       "      <th>394</th>\n",
       "      <td>Isaac Hayden</td>\n",
       "      <td>14.0</td>\n",
       "      <td>Newcastle-United</td>\n",
       "      <td>Midfielder</td>\n",
       "      <td>England</td>\n",
       "      <td>25.0</td>\n",
       "      <td>82</td>\n",
       "      <td>31</td>\n",
       "      <td>31</td>\n",
       "      <td>3</td>\n",
       "      <td>...</td>\n",
       "      <td>NaN</td>\n",
       "      <td>NaN</td>\n",
       "      <td>NaN</td>\n",
       "      <td>NaN</td>\n",
       "      <td>NaN</td>\n",
       "      <td>NaN</td>\n",
       "      <td>15</td>\n",
       "      <td>2</td>\n",
       "      <td>92</td>\n",
       "      <td>2.0</td>\n",
       "    </tr>\n",
       "  </tbody>\n",
       "</table>\n",
       "<p>114 rows × 59 columns</p>\n",
       "</div>"
      ],
      "text/plain": [
       "               Name  Jersey Number                      Club    Position  \\\n",
       "30       Tom Heaton            1.0               Aston-Villa  Goalkeeper   \n",
       "478  Moussa Sissoko           17.0         Tottenham-Hotspur  Midfielder   \n",
       "46   Henri Lansbury            8.0               Aston-Villa  Midfielder   \n",
       "462        Joe Hart           12.0         Tottenham-Hotspur  Goalkeeper   \n",
       "54           Wesley            9.0               Aston-Villa     Forward   \n",
       "..              ...            ...                       ...         ...   \n",
       "439     Harry Lewis           41.0               Southampton  Goalkeeper   \n",
       "67         Dan Burn           33.0  Brighton-and-Hove-Albion    Defender   \n",
       "27    Eddie Nketiah           30.0                   Arsenal     Forward   \n",
       "85      Neal Maupay            9.0  Brighton-and-Hove-Albion     Forward   \n",
       "394    Isaac Hayden           14.0          Newcastle-United  Midfielder   \n",
       "\n",
       "    Nationality   Age  Appearances  Wins  Losses  Goals  ...  Punches  \\\n",
       "30      England  34.0          116    34      55      0  ...     40.0   \n",
       "478      France  31.0          235   110      83     14  ...      NaN   \n",
       "46      England  29.0           13     4       8      0  ...      NaN   \n",
       "462     England  33.0          340   169      97      0  ...    269.0   \n",
       "54       Brazil  23.0           21     6      12      5  ...      NaN   \n",
       "..          ...   ...          ...   ...     ...    ...  ...      ...   \n",
       "439     England  22.0            0     0       0      0  ...      0.0   \n",
       "67      England  28.0           44    11      19      0  ...      NaN   \n",
       "27      England  21.0           23    12       8      4  ...      NaN   \n",
       "85       France  24.0           39    10      16     12  ...      NaN   \n",
       "394     England  25.0           82    31      31      3  ...      NaN   \n",
       "\n",
       "     High Claims  Catches  Sweeper clearances  Throw outs  Goal Kicks  \\\n",
       "30          96.0     73.0                53.0       436.0      1023.0   \n",
       "478          NaN      NaN                 NaN         NaN         NaN   \n",
       "46           NaN      NaN                 NaN         NaN         NaN   \n",
       "462        391.0    249.0               180.0      1516.0      2806.0   \n",
       "54           NaN      NaN                 NaN         NaN         NaN   \n",
       "..           ...      ...                 ...         ...         ...   \n",
       "439          0.0      0.0                 0.0         0.0         0.0   \n",
       "67           NaN      NaN                 NaN         NaN         NaN   \n",
       "27           NaN      NaN                 NaN         NaN         NaN   \n",
       "85           NaN      NaN                 NaN         NaN         NaN   \n",
       "394          NaN      NaN                 NaN         NaN         NaN   \n",
       "\n",
       "     Yellow cards  Red cards Fouls  Offsides  \n",
       "30              5          0     2       NaN  \n",
       "478            36          2   276      24.0  \n",
       "46              1          0     5       1.0  \n",
       "462             7          0     6       NaN  \n",
       "54              3          0    43      14.0  \n",
       "..            ...        ...   ...       ...  \n",
       "439             0          0     0       NaN  \n",
       "67              5          0    38       3.0  \n",
       "27              0          1    18       5.0  \n",
       "85              3          0    38      15.0  \n",
       "394            15          2    92       2.0  \n",
       "\n",
       "[114 rows x 59 columns]"
      ]
     },
     "execution_count": 11,
     "metadata": {},
     "output_type": "execute_result"
    }
   ],
   "source": [
    "premier_df.sample(frac=0.2)"
   ]
  },
  {
   "cell_type": "markdown",
   "metadata": {},
   "source": [
    "Mostra sistemàtica de aprox. el 20% (no es exacte degut a que és necessari arrodonir l'interval):"
   ]
  },
  {
   "cell_type": "code",
   "execution_count": 12,
   "metadata": {},
   "outputs": [
    {
     "name": "stdout",
     "output_type": "stream",
     "text": [
      "114\n",
      "130\n",
      "4\n"
     ]
    },
    {
     "data": {
      "text/html": [
       "<div>\n",
       "<style scoped>\n",
       "    .dataframe tbody tr th:only-of-type {\n",
       "        vertical-align: middle;\n",
       "    }\n",
       "\n",
       "    .dataframe tbody tr th {\n",
       "        vertical-align: top;\n",
       "    }\n",
       "\n",
       "    .dataframe thead th {\n",
       "        text-align: right;\n",
       "    }\n",
       "</style>\n",
       "<table border=\"1\" class=\"dataframe\">\n",
       "  <thead>\n",
       "    <tr style=\"text-align: right;\">\n",
       "      <th></th>\n",
       "      <th>Name</th>\n",
       "      <th>Jersey Number</th>\n",
       "      <th>Club</th>\n",
       "      <th>Position</th>\n",
       "      <th>Nationality</th>\n",
       "      <th>Age</th>\n",
       "      <th>Appearances</th>\n",
       "      <th>Wins</th>\n",
       "      <th>Losses</th>\n",
       "      <th>Goals</th>\n",
       "      <th>...</th>\n",
       "      <th>Punches</th>\n",
       "      <th>High Claims</th>\n",
       "      <th>Catches</th>\n",
       "      <th>Sweeper clearances</th>\n",
       "      <th>Throw outs</th>\n",
       "      <th>Goal Kicks</th>\n",
       "      <th>Yellow cards</th>\n",
       "      <th>Red cards</th>\n",
       "      <th>Fouls</th>\n",
       "      <th>Offsides</th>\n",
       "    </tr>\n",
       "  </thead>\n",
       "  <tbody>\n",
       "    <tr>\n",
       "      <th>130</th>\n",
       "      <td>N'Golo Kanté</td>\n",
       "      <td>7.0</td>\n",
       "      <td>Chelsea</td>\n",
       "      <td>Midfielder</td>\n",
       "      <td>France</td>\n",
       "      <td>29.0</td>\n",
       "      <td>166</td>\n",
       "      <td>98</td>\n",
       "      <td>35</td>\n",
       "      <td>10</td>\n",
       "      <td>...</td>\n",
       "      <td>NaN</td>\n",
       "      <td>NaN</td>\n",
       "      <td>NaN</td>\n",
       "      <td>NaN</td>\n",
       "      <td>NaN</td>\n",
       "      <td>NaN</td>\n",
       "      <td>22</td>\n",
       "      <td>0</td>\n",
       "      <td>218</td>\n",
       "      <td>7.0</td>\n",
       "    </tr>\n",
       "    <tr>\n",
       "      <th>134</th>\n",
       "      <td>Mason Mount</td>\n",
       "      <td>19.0</td>\n",
       "      <td>Chelsea</td>\n",
       "      <td>Midfielder</td>\n",
       "      <td>England</td>\n",
       "      <td>21.0</td>\n",
       "      <td>39</td>\n",
       "      <td>20</td>\n",
       "      <td>13</td>\n",
       "      <td>7</td>\n",
       "      <td>...</td>\n",
       "      <td>NaN</td>\n",
       "      <td>NaN</td>\n",
       "      <td>NaN</td>\n",
       "      <td>NaN</td>\n",
       "      <td>NaN</td>\n",
       "      <td>NaN</td>\n",
       "      <td>3</td>\n",
       "      <td>0</td>\n",
       "      <td>40</td>\n",
       "      <td>4.0</td>\n",
       "    </tr>\n",
       "    <tr>\n",
       "      <th>138</th>\n",
       "      <td>Timo Werner</td>\n",
       "      <td>11.0</td>\n",
       "      <td>Chelsea</td>\n",
       "      <td>Forward</td>\n",
       "      <td>Germany</td>\n",
       "      <td>24.0</td>\n",
       "      <td>2</td>\n",
       "      <td>1</td>\n",
       "      <td>1</td>\n",
       "      <td>0</td>\n",
       "      <td>...</td>\n",
       "      <td>NaN</td>\n",
       "      <td>NaN</td>\n",
       "      <td>NaN</td>\n",
       "      <td>NaN</td>\n",
       "      <td>NaN</td>\n",
       "      <td>NaN</td>\n",
       "      <td>0</td>\n",
       "      <td>0</td>\n",
       "      <td>3</td>\n",
       "      <td>2.0</td>\n",
       "    </tr>\n",
       "    <tr>\n",
       "      <th>142</th>\n",
       "      <td>Wayne Hennessey</td>\n",
       "      <td>13.0</td>\n",
       "      <td>Crystal-Palace</td>\n",
       "      <td>Goalkeeper</td>\n",
       "      <td>Wales</td>\n",
       "      <td>33.0</td>\n",
       "      <td>181</td>\n",
       "      <td>47</td>\n",
       "      <td>94</td>\n",
       "      <td>0</td>\n",
       "      <td>...</td>\n",
       "      <td>72.0</td>\n",
       "      <td>274.0</td>\n",
       "      <td>96.0</td>\n",
       "      <td>122.0</td>\n",
       "      <td>683.0</td>\n",
       "      <td>1621.0</td>\n",
       "      <td>4</td>\n",
       "      <td>0</td>\n",
       "      <td>1</td>\n",
       "      <td>NaN</td>\n",
       "    </tr>\n",
       "    <tr>\n",
       "      <th>146</th>\n",
       "      <td>Joel Ward</td>\n",
       "      <td>2.0</td>\n",
       "      <td>Crystal-Palace</td>\n",
       "      <td>Defender</td>\n",
       "      <td>England</td>\n",
       "      <td>30.0</td>\n",
       "      <td>201</td>\n",
       "      <td>66</td>\n",
       "      <td>95</td>\n",
       "      <td>4</td>\n",
       "      <td>...</td>\n",
       "      <td>NaN</td>\n",
       "      <td>NaN</td>\n",
       "      <td>NaN</td>\n",
       "      <td>NaN</td>\n",
       "      <td>NaN</td>\n",
       "      <td>NaN</td>\n",
       "      <td>28</td>\n",
       "      <td>0</td>\n",
       "      <td>202</td>\n",
       "      <td>4.0</td>\n",
       "    </tr>\n",
       "    <tr>\n",
       "      <th>...</th>\n",
       "      <td>...</td>\n",
       "      <td>...</td>\n",
       "      <td>...</td>\n",
       "      <td>...</td>\n",
       "      <td>...</td>\n",
       "      <td>...</td>\n",
       "      <td>...</td>\n",
       "      <td>...</td>\n",
       "      <td>...</td>\n",
       "      <td>...</td>\n",
       "      <td>...</td>\n",
       "      <td>...</td>\n",
       "      <td>...</td>\n",
       "      <td>...</td>\n",
       "      <td>...</td>\n",
       "      <td>...</td>\n",
       "      <td>...</td>\n",
       "      <td>...</td>\n",
       "      <td>...</td>\n",
       "      <td>...</td>\n",
       "      <td>...</td>\n",
       "    </tr>\n",
       "    <tr>\n",
       "      <th>554</th>\n",
       "      <td>Rúben Vinagre</td>\n",
       "      <td>29.0</td>\n",
       "      <td>Wolverhampton-Wanderers</td>\n",
       "      <td>Defender</td>\n",
       "      <td>Portugal</td>\n",
       "      <td>21.0</td>\n",
       "      <td>34</td>\n",
       "      <td>14</td>\n",
       "      <td>10</td>\n",
       "      <td>0</td>\n",
       "      <td>...</td>\n",
       "      <td>NaN</td>\n",
       "      <td>NaN</td>\n",
       "      <td>NaN</td>\n",
       "      <td>NaN</td>\n",
       "      <td>NaN</td>\n",
       "      <td>NaN</td>\n",
       "      <td>2</td>\n",
       "      <td>0</td>\n",
       "      <td>19</td>\n",
       "      <td>1.0</td>\n",
       "    </tr>\n",
       "    <tr>\n",
       "      <th>558</th>\n",
       "      <td>Ki-Jana Hoever</td>\n",
       "      <td>2.0</td>\n",
       "      <td>Wolverhampton-Wanderers</td>\n",
       "      <td>Defender</td>\n",
       "      <td>Netherlands</td>\n",
       "      <td>18.0</td>\n",
       "      <td>0</td>\n",
       "      <td>0</td>\n",
       "      <td>0</td>\n",
       "      <td>0</td>\n",
       "      <td>...</td>\n",
       "      <td>NaN</td>\n",
       "      <td>NaN</td>\n",
       "      <td>NaN</td>\n",
       "      <td>NaN</td>\n",
       "      <td>NaN</td>\n",
       "      <td>NaN</td>\n",
       "      <td>0</td>\n",
       "      <td>0</td>\n",
       "      <td>0</td>\n",
       "      <td>0.0</td>\n",
       "    </tr>\n",
       "    <tr>\n",
       "      <th>562</th>\n",
       "      <td>João Moutinho</td>\n",
       "      <td>28.0</td>\n",
       "      <td>Wolverhampton-Wanderers</td>\n",
       "      <td>Midfielder</td>\n",
       "      <td>Portugal</td>\n",
       "      <td>34.0</td>\n",
       "      <td>78</td>\n",
       "      <td>32</td>\n",
       "      <td>23</td>\n",
       "      <td>2</td>\n",
       "      <td>...</td>\n",
       "      <td>NaN</td>\n",
       "      <td>NaN</td>\n",
       "      <td>NaN</td>\n",
       "      <td>NaN</td>\n",
       "      <td>NaN</td>\n",
       "      <td>NaN</td>\n",
       "      <td>11</td>\n",
       "      <td>0</td>\n",
       "      <td>95</td>\n",
       "      <td>3.0</td>\n",
       "    </tr>\n",
       "    <tr>\n",
       "      <th>566</th>\n",
       "      <td>Pedro Neto</td>\n",
       "      <td>7.0</td>\n",
       "      <td>Wolverhampton-Wanderers</td>\n",
       "      <td>Forward</td>\n",
       "      <td>Portugal</td>\n",
       "      <td>20.0</td>\n",
       "      <td>31</td>\n",
       "      <td>14</td>\n",
       "      <td>7</td>\n",
       "      <td>3</td>\n",
       "      <td>...</td>\n",
       "      <td>NaN</td>\n",
       "      <td>NaN</td>\n",
       "      <td>NaN</td>\n",
       "      <td>NaN</td>\n",
       "      <td>NaN</td>\n",
       "      <td>NaN</td>\n",
       "      <td>3</td>\n",
       "      <td>0</td>\n",
       "      <td>16</td>\n",
       "      <td>5.0</td>\n",
       "    </tr>\n",
       "    <tr>\n",
       "      <th>570</th>\n",
       "      <td>Leonardo Campana</td>\n",
       "      <td>30.0</td>\n",
       "      <td>Wolverhampton-Wanderers</td>\n",
       "      <td>Forward</td>\n",
       "      <td>Ecuador</td>\n",
       "      <td>20.0</td>\n",
       "      <td>0</td>\n",
       "      <td>0</td>\n",
       "      <td>0</td>\n",
       "      <td>0</td>\n",
       "      <td>...</td>\n",
       "      <td>NaN</td>\n",
       "      <td>NaN</td>\n",
       "      <td>NaN</td>\n",
       "      <td>NaN</td>\n",
       "      <td>NaN</td>\n",
       "      <td>NaN</td>\n",
       "      <td>0</td>\n",
       "      <td>0</td>\n",
       "      <td>0</td>\n",
       "      <td>0.0</td>\n",
       "    </tr>\n",
       "  </tbody>\n",
       "</table>\n",
       "<p>111 rows × 59 columns</p>\n",
       "</div>"
      ],
      "text/plain": [
       "                 Name  Jersey Number                     Club    Position  \\\n",
       "130      N'Golo Kanté            7.0                  Chelsea  Midfielder   \n",
       "134       Mason Mount           19.0                  Chelsea  Midfielder   \n",
       "138       Timo Werner           11.0                  Chelsea     Forward   \n",
       "142   Wayne Hennessey           13.0           Crystal-Palace  Goalkeeper   \n",
       "146         Joel Ward            2.0           Crystal-Palace    Defender   \n",
       "..                ...            ...                      ...         ...   \n",
       "554     Rúben Vinagre           29.0  Wolverhampton-Wanderers    Defender   \n",
       "558    Ki-Jana Hoever            2.0  Wolverhampton-Wanderers    Defender   \n",
       "562     João Moutinho           28.0  Wolverhampton-Wanderers  Midfielder   \n",
       "566        Pedro Neto            7.0  Wolverhampton-Wanderers     Forward   \n",
       "570  Leonardo Campana           30.0  Wolverhampton-Wanderers     Forward   \n",
       "\n",
       "     Nationality   Age  Appearances  Wins  Losses  Goals  ...  Punches  \\\n",
       "130       France  29.0          166    98      35     10  ...      NaN   \n",
       "134      England  21.0           39    20      13      7  ...      NaN   \n",
       "138      Germany  24.0            2     1       1      0  ...      NaN   \n",
       "142        Wales  33.0          181    47      94      0  ...     72.0   \n",
       "146      England  30.0          201    66      95      4  ...      NaN   \n",
       "..           ...   ...          ...   ...     ...    ...  ...      ...   \n",
       "554     Portugal  21.0           34    14      10      0  ...      NaN   \n",
       "558  Netherlands  18.0            0     0       0      0  ...      NaN   \n",
       "562     Portugal  34.0           78    32      23      2  ...      NaN   \n",
       "566     Portugal  20.0           31    14       7      3  ...      NaN   \n",
       "570      Ecuador  20.0            0     0       0      0  ...      NaN   \n",
       "\n",
       "     High Claims  Catches  Sweeper clearances  Throw outs  Goal Kicks  \\\n",
       "130          NaN      NaN                 NaN         NaN         NaN   \n",
       "134          NaN      NaN                 NaN         NaN         NaN   \n",
       "138          NaN      NaN                 NaN         NaN         NaN   \n",
       "142        274.0     96.0               122.0       683.0      1621.0   \n",
       "146          NaN      NaN                 NaN         NaN         NaN   \n",
       "..           ...      ...                 ...         ...         ...   \n",
       "554          NaN      NaN                 NaN         NaN         NaN   \n",
       "558          NaN      NaN                 NaN         NaN         NaN   \n",
       "562          NaN      NaN                 NaN         NaN         NaN   \n",
       "566          NaN      NaN                 NaN         NaN         NaN   \n",
       "570          NaN      NaN                 NaN         NaN         NaN   \n",
       "\n",
       "     Yellow cards  Red cards Fouls  Offsides  \n",
       "130            22          0   218       7.0  \n",
       "134             3          0    40       4.0  \n",
       "138             0          0     3       2.0  \n",
       "142             4          0     1       NaN  \n",
       "146            28          0   202       4.0  \n",
       "..            ...        ...   ...       ...  \n",
       "554             2          0    19       1.0  \n",
       "558             0          0     0       0.0  \n",
       "562            11          0    95       3.0  \n",
       "566             3          0    16       5.0  \n",
       "570             0          0     0       0.0  \n",
       "\n",
       "[111 rows x 59 columns]"
      ]
     },
     "execution_count": 12,
     "metadata": {},
     "output_type": "execute_result"
    }
   ],
   "source": [
    "size_sample = round(len(premier_df) * 0.2)\n",
    "print(size_sample)\n",
    "\n",
    "starting_point = random.randint(0, len(premier_df)-size_sample)\n",
    "print(starting_point)\n",
    "\n",
    "interval = round(len(premier_df[starting_point:]) / size_sample)\n",
    "print(interval)\n",
    "\n",
    "premier_df[starting_point::interval]"
   ]
  },
  {
   "cell_type": "markdown",
   "metadata": {},
   "source": [
    "- Exercici 2\n",
    "Continua amb el conjunt de dades de tema esportiu i genera una mostra estratificada i una mostra utilitzant SMOTE (Synthetic Minority Oversampling Technique)."
   ]
  },
  {
   "cell_type": "markdown",
   "metadata": {},
   "source": [
    "Per fer la mostra estratificada seleccionarem la variable posició dels jugadors com a label a partir de la qual prendre la mostra. Les features que hem seleccionat son nom, victòries, derrotes y gols."
   ]
  },
  {
   "cell_type": "code",
   "execution_count": 18,
   "metadata": {
    "scrolled": true
   },
   "outputs": [
    {
     "data": {
      "text/plain": [
       "Index(['Name', 'Jersey Number', 'Club', 'Position', 'Nationality', 'Age',\n",
       "       'Appearances', 'Wins', 'Losses', 'Goals', 'Goals per match',\n",
       "       'Headed goals', 'Goals with right foot', 'Goals with left foot',\n",
       "       'Penalties scored', 'Freekicks scored', 'Shots', 'Shots on target',\n",
       "       'Shooting accuracy %', 'Hit woodwork', 'Big chances missed',\n",
       "       'Clean sheets', 'Goals conceded', 'Tackles', 'Tackle success %',\n",
       "       'Last man tackles', 'Blocked shots', 'Interceptions', 'Clearances',\n",
       "       'Headed Clearance', 'Clearances off line', 'Recoveries', 'Duels won',\n",
       "       'Duels lost', 'Successful 50/50s', 'Aerial battles won',\n",
       "       'Aerial battles lost', 'Own goals', 'Errors leading to goal', 'Assists',\n",
       "       'Passes', 'Passes per match', 'Big chances created', 'Crosses',\n",
       "       'Cross accuracy %', 'Through balls', 'Accurate long balls', 'Saves',\n",
       "       'Penalties saved', 'Punches', 'High Claims', 'Catches',\n",
       "       'Sweeper clearances', 'Throw outs', 'Goal Kicks', 'Yellow cards',\n",
       "       'Red cards', 'Fouls', 'Offsides'],\n",
       "      dtype='object')"
      ]
     },
     "execution_count": 18,
     "metadata": {},
     "output_type": "execute_result"
    }
   ],
   "source": [
    "premier_df.columns"
   ]
  },
  {
   "cell_type": "code",
   "execution_count": 24,
   "metadata": {
    "scrolled": true
   },
   "outputs": [
    {
     "data": {
      "text/plain": [
       "0    Goalkeeper\n",
       "1    Goalkeeper\n",
       "2    Goalkeeper\n",
       "3      Defender\n",
       "4      Defender\n",
       "Name: Position, dtype: object"
      ]
     },
     "execution_count": 24,
     "metadata": {},
     "output_type": "execute_result"
    }
   ],
   "source": [
    "y = premier_df.Position\n",
    "y.head()"
   ]
  },
  {
   "cell_type": "code",
   "execution_count": 28,
   "metadata": {},
   "outputs": [
    {
     "data": {
      "text/plain": [
       "(571,)"
      ]
     },
     "execution_count": 28,
     "metadata": {},
     "output_type": "execute_result"
    }
   ],
   "source": [
    "y.shape"
   ]
  },
  {
   "cell_type": "code",
   "execution_count": 75,
   "metadata": {},
   "outputs": [
    {
     "data": {
      "text/plain": [
       "Midfielder    34.676007\n",
       "Defender      33.975482\n",
       "Forward       19.264448\n",
       "Goalkeeper    12.084063\n",
       "Name: Position, dtype: float64"
      ]
     },
     "execution_count": 75,
     "metadata": {},
     "output_type": "execute_result"
    }
   ],
   "source": [
    "y.value_counts() / len(y) *100"
   ]
  },
  {
   "cell_type": "code",
   "execution_count": 73,
   "metadata": {},
   "outputs": [
    {
     "data": {
      "text/plain": [
       "<AxesSubplot:xlabel='Position', ylabel='count'>"
      ]
     },
     "execution_count": 73,
     "metadata": {},
     "output_type": "execute_result"
    },
    {
     "data": {
      "image/png": "[encoded data removed]",
      "text/plain": [
       "<Figure size 432x288 with 1 Axes>"
      ]
     },
     "metadata": {
      "needs_background": "light"
     },
     "output_type": "display_data"
    }
   ],
   "source": [
    "sns.countplot(x=y)"
   ]
  },
  {
   "cell_type": "code",
   "execution_count": 25,
   "metadata": {},
   "outputs": [
    {
     "data": {
      "text/html": [
       "<div>\n",
       "<style scoped>\n",
       "    .dataframe tbody tr th:only-of-type {\n",
       "        vertical-align: middle;\n",
       "    }\n",
       "\n",
       "    .dataframe tbody tr th {\n",
       "        vertical-align: top;\n",
       "    }\n",
       "\n",
       "    .dataframe thead th {\n",
       "        text-align: right;\n",
       "    }\n",
       "</style>\n",
       "<table border=\"1\" class=\"dataframe\">\n",
       "  <thead>\n",
       "    <tr style=\"text-align: right;\">\n",
       "      <th></th>\n",
       "      <th>Name</th>\n",
       "      <th>Wins</th>\n",
       "      <th>Losses</th>\n",
       "      <th>Goals</th>\n",
       "    </tr>\n",
       "  </thead>\n",
       "  <tbody>\n",
       "    <tr>\n",
       "      <th>0</th>\n",
       "      <td>Bernd Leno</td>\n",
       "      <td>28</td>\n",
       "      <td>16</td>\n",
       "      <td>0</td>\n",
       "    </tr>\n",
       "    <tr>\n",
       "      <th>1</th>\n",
       "      <td>Matt Macey</td>\n",
       "      <td>0</td>\n",
       "      <td>0</td>\n",
       "      <td>0</td>\n",
       "    </tr>\n",
       "    <tr>\n",
       "      <th>2</th>\n",
       "      <td>Rúnar Alex Rúnarsson</td>\n",
       "      <td>0</td>\n",
       "      <td>0</td>\n",
       "      <td>0</td>\n",
       "    </tr>\n",
       "    <tr>\n",
       "      <th>3</th>\n",
       "      <td>Héctor Bellerín</td>\n",
       "      <td>90</td>\n",
       "      <td>37</td>\n",
       "      <td>7</td>\n",
       "    </tr>\n",
       "    <tr>\n",
       "      <th>4</th>\n",
       "      <td>Kieran Tierney</td>\n",
       "      <td>7</td>\n",
       "      <td>5</td>\n",
       "      <td>1</td>\n",
       "    </tr>\n",
       "  </tbody>\n",
       "</table>\n",
       "</div>"
      ],
      "text/plain": [
       "                   Name  Wins  Losses  Goals\n",
       "0            Bernd Leno    28      16      0\n",
       "1            Matt Macey     0       0      0\n",
       "2  Rúnar Alex Rúnarsson     0       0      0\n",
       "3       Héctor Bellerín    90      37      7\n",
       "4        Kieran Tierney     7       5      1"
      ]
     },
     "execution_count": 25,
     "metadata": {},
     "output_type": "execute_result"
    }
   ],
   "source": [
    "X = premier_df[['Name', 'Wins', 'Losses', 'Goals']]\n",
    "X.head()"
   ]
  },
  {
   "cell_type": "code",
   "execution_count": 29,
   "metadata": {},
   "outputs": [
    {
     "data": {
      "text/plain": [
       "(571, 4)"
      ]
     },
     "execution_count": 29,
     "metadata": {},
     "output_type": "execute_result"
    }
   ],
   "source": [
    "X.shape"
   ]
  },
  {
   "cell_type": "code",
   "execution_count": 26,
   "metadata": {},
   "outputs": [],
   "source": [
    "X_train, X_test, y_train, y_test = train_test_split(X, y,\n",
    "                                                    stratify=y, \n",
    "                                                    test_size=0.25)"
   ]
  },
  {
   "cell_type": "code",
   "execution_count": 37,
   "metadata": {},
   "outputs": [
    {
     "data": {
      "text/plain": [
       "285       Forward\n",
       "507    Midfielder\n",
       "479    Midfielder\n",
       "407       Forward\n",
       "330      Defender\n",
       "Name: Position, dtype: object"
      ]
     },
     "execution_count": 37,
     "metadata": {},
     "output_type": "execute_result"
    }
   ],
   "source": [
    "y_test.head()"
   ]
  },
  {
   "cell_type": "code",
   "execution_count": 77,
   "metadata": {},
   "outputs": [
    {
     "data": {
      "text/plain": [
       "Midfielder    34.965035\n",
       "Defender      34.265734\n",
       "Forward       18.881119\n",
       "Goalkeeper    11.888112\n",
       "Name: Position, dtype: float64"
      ]
     },
     "execution_count": 77,
     "metadata": {},
     "output_type": "execute_result"
    }
   ],
   "source": [
    "y_test.value_counts() / len(y_test) *100"
   ]
  },
  {
   "cell_type": "code",
   "execution_count": 35,
   "metadata": {
    "scrolled": true
   },
   "outputs": [
    {
     "data": {
      "text/plain": [
       "<AxesSubplot:xlabel='Position', ylabel='count'>"
      ]
     },
     "execution_count": 35,
     "metadata": {},
     "output_type": "execute_result"
    },
    {
     "data": {
      "image/png": "[encoded data removed]",
      "text/plain": [
       "<Figure size 432x288 with 1 Axes>"
      ]
     },
     "metadata": {
      "needs_background": "light"
     },
     "output_type": "display_data"
    }
   ],
   "source": [
    "sns.countplot(x=y_test)"
   ]
  },
  {
   "cell_type": "code",
   "execution_count": 41,
   "metadata": {},
   "outputs": [
    {
     "data": {
      "text/html": [
       "<div>\n",
       "<style scoped>\n",
       "    .dataframe tbody tr th:only-of-type {\n",
       "        vertical-align: middle;\n",
       "    }\n",
       "\n",
       "    .dataframe tbody tr th {\n",
       "        vertical-align: top;\n",
       "    }\n",
       "\n",
       "    .dataframe thead th {\n",
       "        text-align: right;\n",
       "    }\n",
       "</style>\n",
       "<table border=\"1\" class=\"dataframe\">\n",
       "  <thead>\n",
       "    <tr style=\"text-align: right;\">\n",
       "      <th></th>\n",
       "      <th>Name</th>\n",
       "      <th>Wins</th>\n",
       "      <th>Losses</th>\n",
       "      <th>Goals</th>\n",
       "    </tr>\n",
       "  </thead>\n",
       "  <tbody>\n",
       "    <tr>\n",
       "      <th>285</th>\n",
       "      <td>Fousseni Diabaté</td>\n",
       "      <td>3</td>\n",
       "      <td>7</td>\n",
       "      <td>0</td>\n",
       "    </tr>\n",
       "    <tr>\n",
       "      <th>507</th>\n",
       "      <td>Kamil Grosicki</td>\n",
       "      <td>4</td>\n",
       "      <td>7</td>\n",
       "      <td>0</td>\n",
       "    </tr>\n",
       "    <tr>\n",
       "      <th>479</th>\n",
       "      <td>Ryan Sessegnon</td>\n",
       "      <td>10</td>\n",
       "      <td>25</td>\n",
       "      <td>2</td>\n",
       "    </tr>\n",
       "    <tr>\n",
       "      <th>407</th>\n",
       "      <td>Callum Wilson</td>\n",
       "      <td>39</td>\n",
       "      <td>60</td>\n",
       "      <td>42</td>\n",
       "    </tr>\n",
       "    <tr>\n",
       "      <th>330</th>\n",
       "      <td>Nicolás Otamendi</td>\n",
       "      <td>94</td>\n",
       "      <td>22</td>\n",
       "      <td>8</td>\n",
       "    </tr>\n",
       "  </tbody>\n",
       "</table>\n",
       "</div>"
      ],
      "text/plain": [
       "                 Name  Wins  Losses  Goals\n",
       "285  Fousseni Diabaté     3       7      0\n",
       "507    Kamil Grosicki     4       7      0\n",
       "479    Ryan Sessegnon    10      25      2\n",
       "407     Callum Wilson    39      60     42\n",
       "330  Nicolás Otamendi    94      22      8"
      ]
     },
     "execution_count": 41,
     "metadata": {},
     "output_type": "execute_result"
    }
   ],
   "source": [
    "X_test.head()"
   ]
  },
  {
   "cell_type": "code",
   "execution_count": 96,
   "metadata": {},
   "outputs": [
    {
     "data": {
      "text/plain": [
       "<seaborn.axisgrid.FacetGrid at 0x246526f1be0>"
      ]
     },
     "execution_count": 96,
     "metadata": {},
     "output_type": "execute_result"
    },
    {
     "data": {
      "image/png": "[encoded data removed]",
      "text/plain": [
       "<Figure size 360x360 with 1 Axes>"
      ]
     },
     "metadata": {
      "needs_background": "light"
     },
     "output_type": "display_data"
    }
   ],
   "source": [
    "sns.displot(data=X['Goals'])"
   ]
  },
  {
   "cell_type": "code",
   "execution_count": 85,
   "metadata": {},
   "outputs": [
    {
     "data": {
      "text/plain": [
       "<seaborn.axisgrid.FacetGrid at 0x2465263ac70>"
      ]
     },
     "execution_count": 85,
     "metadata": {},
     "output_type": "execute_result"
    },
    {
     "data": {
      "image/png": "[encoded data removed]",
      "text/plain": [
       "<Figure size 360x360 with 1 Axes>"
      ]
     },
     "metadata": {
      "needs_background": "light"
     },
     "output_type": "display_data"
    }
   ],
   "source": [
    "sns.displot(data=X_test['Goals'])"
   ]
  },
  {
   "cell_type": "code",
   "execution_count": 95,
   "metadata": {},
   "outputs": [
    {
     "data": {
      "text/plain": [
       "42.65734265734265"
      ]
     },
     "execution_count": 95,
     "metadata": {},
     "output_type": "execute_result"
    }
   ],
   "source": [
    "X_test[X_test['Goals'] == 0].Goals.count() / len(X_test) * 100 #el 42% dels jugadors no han fet cap gol"
   ]
  },
  {
   "cell_type": "markdown",
   "metadata": {},
   "source": [
    "SMOTE"
   ]
  },
  {
   "cell_type": "code",
   "execution_count": 106,
   "metadata": {},
   "outputs": [
    {
     "data": {
      "text/plain": [
       "Index(['Name', 'Jersey Number', 'Club', 'Position', 'Nationality', 'Age',\n",
       "       'Appearances', 'Wins', 'Losses', 'Goals', 'Goals per match',\n",
       "       'Headed goals', 'Goals with right foot', 'Goals with left foot',\n",
       "       'Penalties scored', 'Freekicks scored', 'Shots', 'Shots on target',\n",
       "       'Shooting accuracy %', 'Hit woodwork', 'Big chances missed',\n",
       "       'Clean sheets', 'Goals conceded', 'Tackles', 'Tackle success %',\n",
       "       'Last man tackles', 'Blocked shots', 'Interceptions', 'Clearances',\n",
       "       'Headed Clearance', 'Clearances off line', 'Recoveries', 'Duels won',\n",
       "       'Duels lost', 'Successful 50/50s', 'Aerial battles won',\n",
       "       'Aerial battles lost', 'Own goals', 'Errors leading to goal', 'Assists',\n",
       "       'Passes', 'Passes per match', 'Big chances created', 'Crosses',\n",
       "       'Cross accuracy %', 'Through balls', 'Accurate long balls', 'Saves',\n",
       "       'Penalties saved', 'Punches', 'High Claims', 'Catches',\n",
       "       'Sweeper clearances', 'Throw outs', 'Goal Kicks', 'Yellow cards',\n",
       "       'Red cards', 'Fouls', 'Offsides'],\n",
       "      dtype='object')"
      ]
     },
     "execution_count": 106,
     "metadata": {},
     "output_type": "execute_result"
    }
   ],
   "source": [
    "premier_df.columns"
   ]
  },
  {
   "cell_type": "code",
   "execution_count": 109,
   "metadata": {},
   "outputs": [
    {
     "data": {
      "text/html": [
       "<div>\n",
       "<style scoped>\n",
       "    .dataframe tbody tr th:only-of-type {\n",
       "        vertical-align: middle;\n",
       "    }\n",
       "\n",
       "    .dataframe tbody tr th {\n",
       "        vertical-align: top;\n",
       "    }\n",
       "\n",
       "    .dataframe thead th {\n",
       "        text-align: right;\n",
       "    }\n",
       "</style>\n",
       "<table border=\"1\" class=\"dataframe\">\n",
       "  <thead>\n",
       "    <tr style=\"text-align: right;\">\n",
       "      <th></th>\n",
       "      <th>Name</th>\n",
       "      <th>Position</th>\n",
       "      <th>Wins</th>\n",
       "      <th>Losses</th>\n",
       "    </tr>\n",
       "  </thead>\n",
       "  <tbody>\n",
       "    <tr>\n",
       "      <th>0</th>\n",
       "      <td>Bernd Leno</td>\n",
       "      <td>Goalkeeper</td>\n",
       "      <td>28</td>\n",
       "      <td>16</td>\n",
       "    </tr>\n",
       "    <tr>\n",
       "      <th>1</th>\n",
       "      <td>Matt Macey</td>\n",
       "      <td>Goalkeeper</td>\n",
       "      <td>0</td>\n",
       "      <td>0</td>\n",
       "    </tr>\n",
       "    <tr>\n",
       "      <th>2</th>\n",
       "      <td>Rúnar Alex Rúnarsson</td>\n",
       "      <td>Goalkeeper</td>\n",
       "      <td>0</td>\n",
       "      <td>0</td>\n",
       "    </tr>\n",
       "    <tr>\n",
       "      <th>3</th>\n",
       "      <td>Héctor Bellerín</td>\n",
       "      <td>Defender</td>\n",
       "      <td>90</td>\n",
       "      <td>37</td>\n",
       "    </tr>\n",
       "    <tr>\n",
       "      <th>4</th>\n",
       "      <td>Kieran Tierney</td>\n",
       "      <td>Defender</td>\n",
       "      <td>7</td>\n",
       "      <td>5</td>\n",
       "    </tr>\n",
       "    <tr>\n",
       "      <th>...</th>\n",
       "      <td>...</td>\n",
       "      <td>...</td>\n",
       "      <td>...</td>\n",
       "      <td>...</td>\n",
       "    </tr>\n",
       "    <tr>\n",
       "      <th>566</th>\n",
       "      <td>Pedro Neto</td>\n",
       "      <td>Forward</td>\n",
       "      <td>14</td>\n",
       "      <td>7</td>\n",
       "    </tr>\n",
       "    <tr>\n",
       "      <th>567</th>\n",
       "      <td>Raúl Jiménez</td>\n",
       "      <td>Forward</td>\n",
       "      <td>32</td>\n",
       "      <td>23</td>\n",
       "    </tr>\n",
       "    <tr>\n",
       "      <th>568</th>\n",
       "      <td>Adama Traoré</td>\n",
       "      <td>Forward</td>\n",
       "      <td>27</td>\n",
       "      <td>47</td>\n",
       "    </tr>\n",
       "    <tr>\n",
       "      <th>569</th>\n",
       "      <td>Fábio Silva</td>\n",
       "      <td>Forward</td>\n",
       "      <td>0</td>\n",
       "      <td>1</td>\n",
       "    </tr>\n",
       "    <tr>\n",
       "      <th>570</th>\n",
       "      <td>Leonardo Campana</td>\n",
       "      <td>Forward</td>\n",
       "      <td>0</td>\n",
       "      <td>0</td>\n",
       "    </tr>\n",
       "  </tbody>\n",
       "</table>\n",
       "<p>571 rows × 4 columns</p>\n",
       "</div>"
      ],
      "text/plain": [
       "                     Name    Position  Wins  Losses\n",
       "0              Bernd Leno  Goalkeeper    28      16\n",
       "1              Matt Macey  Goalkeeper     0       0\n",
       "2    Rúnar Alex Rúnarsson  Goalkeeper     0       0\n",
       "3         Héctor Bellerín    Defender    90      37\n",
       "4          Kieran Tierney    Defender     7       5\n",
       "..                    ...         ...   ...     ...\n",
       "566            Pedro Neto     Forward    14       7\n",
       "567          Raúl Jiménez     Forward    32      23\n",
       "568          Adama Traoré     Forward    27      47\n",
       "569           Fábio Silva     Forward     0       1\n",
       "570      Leonardo Campana     Forward     0       0\n",
       "\n",
       "[571 rows x 4 columns]"
      ]
     },
     "execution_count": 109,
     "metadata": {},
     "output_type": "execute_result"
    }
   ],
   "source": [
    "premier = premier_df[['Name', 'Position', 'Wins', 'Losses']].copy(deep=True)\n",
    "premier"
   ]
  },
  {
   "cell_type": "code",
   "execution_count": 113,
   "metadata": {},
   "outputs": [
    {
     "data": {
      "text/html": [
       "<div>\n",
       "<style scoped>\n",
       "    .dataframe tbody tr th:only-of-type {\n",
       "        vertical-align: middle;\n",
       "    }\n",
       "\n",
       "    .dataframe tbody tr th {\n",
       "        vertical-align: top;\n",
       "    }\n",
       "\n",
       "    .dataframe thead th {\n",
       "        text-align: right;\n",
       "    }\n",
       "</style>\n",
       "<table border=\"1\" class=\"dataframe\">\n",
       "  <thead>\n",
       "    <tr style=\"text-align: right;\">\n",
       "      <th></th>\n",
       "      <th>Name</th>\n",
       "      <th>Position</th>\n",
       "      <th>Wins</th>\n",
       "      <th>Losses</th>\n",
       "      <th>De_campo</th>\n",
       "    </tr>\n",
       "  </thead>\n",
       "  <tbody>\n",
       "    <tr>\n",
       "      <th>0</th>\n",
       "      <td>Bernd Leno</td>\n",
       "      <td>Goalkeeper</td>\n",
       "      <td>28</td>\n",
       "      <td>16</td>\n",
       "      <td>0</td>\n",
       "    </tr>\n",
       "    <tr>\n",
       "      <th>1</th>\n",
       "      <td>Matt Macey</td>\n",
       "      <td>Goalkeeper</td>\n",
       "      <td>0</td>\n",
       "      <td>0</td>\n",
       "      <td>0</td>\n",
       "    </tr>\n",
       "    <tr>\n",
       "      <th>2</th>\n",
       "      <td>Rúnar Alex Rúnarsson</td>\n",
       "      <td>Goalkeeper</td>\n",
       "      <td>0</td>\n",
       "      <td>0</td>\n",
       "      <td>0</td>\n",
       "    </tr>\n",
       "    <tr>\n",
       "      <th>3</th>\n",
       "      <td>Héctor Bellerín</td>\n",
       "      <td>Defender</td>\n",
       "      <td>90</td>\n",
       "      <td>37</td>\n",
       "      <td>1</td>\n",
       "    </tr>\n",
       "    <tr>\n",
       "      <th>4</th>\n",
       "      <td>Kieran Tierney</td>\n",
       "      <td>Defender</td>\n",
       "      <td>7</td>\n",
       "      <td>5</td>\n",
       "      <td>1</td>\n",
       "    </tr>\n",
       "  </tbody>\n",
       "</table>\n",
       "</div>"
      ],
      "text/plain": [
       "                   Name    Position  Wins  Losses  De_campo\n",
       "0            Bernd Leno  Goalkeeper    28      16         0\n",
       "1            Matt Macey  Goalkeeper     0       0         0\n",
       "2  Rúnar Alex Rúnarsson  Goalkeeper     0       0         0\n",
       "3       Héctor Bellerín    Defender    90      37         1\n",
       "4        Kieran Tierney    Defender     7       5         1"
      ]
     },
     "execution_count": 113,
     "metadata": {},
     "output_type": "execute_result"
    }
   ],
   "source": [
    "premier['De_campo'] = [0 if x == 'Goalkeeper' else 1 for x in premier.Position]\n",
    "premier.head()"
   ]
  },
  {
   "cell_type": "code",
   "execution_count": 115,
   "metadata": {},
   "outputs": [
    {
     "data": {
      "text/plain": [
       "1    502\n",
       "0     69\n",
       "Name: De_campo, dtype: int64"
      ]
     },
     "execution_count": 115,
     "metadata": {},
     "output_type": "execute_result"
    }
   ],
   "source": [
    "premier.De_campo.value_counts()"
   ]
  },
  {
   "cell_type": "code",
   "execution_count": 117,
   "metadata": {},
   "outputs": [
    {
     "data": {
      "text/plain": [
       "<AxesSubplot:xlabel='De_campo', ylabel='count'>"
      ]
     },
     "execution_count": 117,
     "metadata": {},
     "output_type": "execute_result"
    },
    {
     "data": {
      "image/png": "[encoded data removed]",
      "text/plain": [
       "<Figure size 432x288 with 1 Axes>"
      ]
     },
     "metadata": {
      "needs_background": "light"
     },
     "output_type": "display_data"
    }
   ],
   "source": [
    "sns.countplot(data=premier, x='De_campo')"
   ]
  },
  {
   "cell_type": "code",
   "execution_count": null,
   "metadata": {},
   "outputs": [],
   "source": []
  },
  {
   "cell_type": "markdown",
   "metadata": {},
   "source": [
    "- Exercici 3\n",
    "Continua amb el conjunt de dades de tema esportiu i genera una mostra utilitzant el mètode Reservoir sampling."
   ]
  }
 ],
 "metadata": {
  "kernelspec": {
   "display_name": "Python 3",
   "language": "python",
   "name": "python3"
  },
  "language_info": {
   "codemirror_mode": {
    "name": "ipython",
    "version": 3
   },
   "file_extension": ".py",
   "mimetype": "text/x-python",
   "name": "python",
   "nbconvert_exporter": "python",
   "pygments_lexer": "ipython3",
   "version": "3.8.8"
  }
 },
 "nbformat": 4,
 "nbformat_minor": 4
}
